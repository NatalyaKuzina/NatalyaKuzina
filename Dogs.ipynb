{
  "cells": [
    {
      "cell_type": "markdown",
      "metadata": {
        "id": "view-in-github",
        "colab_type": "text"
      },
      "source": [
        "<a href=\"https://colab.research.google.com/github/NatalyaKuzina/NatalyaKuzina/blob/main/Dogs.ipynb\" target=\"_parent\"><img src=\"https://colab.research.google.com/assets/colab-badge.svg\" alt=\"Open In Colab\"/></a>"
      ]
    },
    {
      "cell_type": "code",
      "execution_count": 1,
      "metadata": {
        "colab": {
          "base_uri": "https://localhost:8080/"
        },
        "id": "kMyAuSoap8Qo",
        "outputId": "a3800989-233a-4462-defd-5f3b42433589"
      },
      "outputs": [
        {
          "output_type": "stream",
          "name": "stdout",
          "text": [
            "Mounted at /content/drive\n"
          ]
        }
      ],
      "source": [
        "from google.colab import drive\n",
        "drive.mount('/content/drive')"
      ]
    },
    {
      "cell_type": "code",
      "execution_count": 2,
      "metadata": {
        "id": "6lN6yU-H_tdR"
      },
      "outputs": [],
      "source": [
        "\n",
        "import os\n",
        "import zipfile\n",
        "\n",
        "local_zip = '/content/drive/MyDrive/Colab Notebooks/Dogs.zip'\n",
        "zip_ref = zipfile.ZipFile(local_zip, 'r')\n",
        "zip_ref.extractall('/content/drive/MyDrive/Colab Notebooks/tmp/')\n",
        "zip_ref.close()\n",
        "\n",
        "local_zip = '/content/drive/MyDrive/Colab Notebooks/Dogs_test.zip'\n",
        "zip_ref = zipfile.ZipFile(local_zip, 'r')\n",
        "zip_ref.extractall('/content/drive/MyDrive/Colab Notebooks/tmp/')\n",
        "zip_ref.close()"
      ]
    },
    {
      "cell_type": "code",
      "execution_count": 3,
      "metadata": {
        "colab": {
          "base_uri": "https://localhost:8080/"
        },
        "id": "QVfqeZbw_tdU",
        "outputId": "d7e73e73-e9ba-462c-8a80-c3eca5eddc66"
      },
      "outputs": [
        {
          "output_type": "stream",
          "name": "stdout",
          "text": [
            "total training dog_light_short_tail images: 243\n",
            "total training dog_light_long_tail images: 175\n",
            "total training dog_color_short_tail images: 160\n",
            "total training dog_color_long_tail images: 123\n",
            "total training dog_dark_short_tail images: 211\n",
            "total training dog_dark_long_tail images: 143\n",
            "['177.png', '2259.jpg', '2279.jpg', '212.jpg', '2302.jpg', '2311.jpg', '2320.jpg', '2326.jpg', '2327.jpg', '2271.jpg']\n",
            "['126.png', '131.png', '134.jpg', '168.png', '149.jpg', '194.png', '203.jpg', '220.jpg', '210.jpg', '223.jpg']\n",
            "['130.jpg', '135.png', '166.png', '138.jpg', '169.png', '175.png', '205.jpg', '2135.jpg', '2264.jpg', '2265.jpg']\n",
            "['150.jpg', '162.jpg', '2295.jpg', '2354.jpg', '174.jpg', '2375.jpg', '190.jpg', '186.png', '195.png', '2349.jpg']\n",
            "['165.jpg', '161.png', '170.png', '179.jpg', '211.png', '2132.jpg', '2214.jpg', '2258.jpg', '2261.jpg', '2287.jpg']\n",
            "['141.jpg', '171.png', '192.png', '193.png', '2006.jpg', '204.png', '206.png', '218.png', '2217.jpg', '2339.jpg']\n"
          ]
        }
      ],
      "source": [
        "dog_light_short_tail_dir = os.path.join('/content/drive/MyDrive/Colab Notebooks/tmp/Dogs/Dogs_light_short_tail')\n",
        "dog_light_long_tail_dir = os.path.join('/content/drive/MyDrive/Colab Notebooks/tmp/Dogs/Dogs_light_long_tail')\n",
        "dog_color_short_tail_dir = os.path.join('/content/drive/MyDrive/Colab Notebooks/tmp/Dogs/Dogs_color_short_tail')\n",
        "dog_color_long_tail_dir = os.path.join('/content/drive/MyDrive/Colab Notebooks/tmp/Dogs/Dogs_color_long_tail')\n",
        "dog_dark_short_tail_dir = os.path.join('/content/drive/MyDrive/Colab Notebooks/tmp/Dogs/Dogs_dark_short_tail')\n",
        "dog_dark_long_tail_dir = os.path.join('/content/drive/MyDrive/Colab Notebooks/tmp/Dogs/Dogs_dark_long_tail')\n",
        "\n",
        "print('total training dog_light_short_tail images:', len(os.listdir(dog_light_short_tail_dir)))\n",
        "print('total training dog_light_long_tail images:', len(os.listdir(dog_light_long_tail_dir)))\n",
        "print('total training dog_color_short_tail images:', len(os.listdir(dog_color_short_tail_dir)))\n",
        "print('total training dog_color_long_tail images:', len(os.listdir(dog_color_long_tail_dir)))\n",
        "print('total training dog_dark_short_tail images:', len(os.listdir(dog_dark_short_tail_dir)))\n",
        "print('total training dog_dark_long_tail images:', len(os.listdir(dog_dark_long_tail_dir)))\n",
        "\n",
        "dog_light_short_tail_files = os.listdir(dog_light_short_tail_dir)\n",
        "print(dog_light_short_tail_files[:10])\n",
        "\n",
        "dog_light_long_tail_files = os.listdir(dog_light_long_tail_dir)\n",
        "print(dog_light_long_tail_files[:10])\n",
        "\n",
        "dog_color_short_tail_files = os.listdir(dog_color_short_tail_dir)\n",
        "print(dog_color_short_tail_files[:10])\n",
        "\n",
        "dog_color_long_tail_files = os.listdir(dog_color_long_tail_dir)\n",
        "print(dog_color_long_tail_files[:10])\n",
        "\n",
        "dog_dark_short_tail_files = os.listdir(dog_dark_short_tail_dir)\n",
        "print(dog_dark_short_tail_files[:10])\n",
        "\n",
        "dog_dark_long_tail_files = os.listdir(dog_dark_long_tail_dir)\n",
        "print(dog_dark_long_tail_files[:10])\n"
      ]
    },
    {
      "cell_type": "code",
      "execution_count": 4,
      "metadata": {
        "id": "7M29keZx_tdW"
      },
      "outputs": [],
      "source": [
        "%matplotlib inline\n",
        "\n",
        "import matplotlib.pyplot as plt\n",
        "import matplotlib.image as mpimg\n",
        "\n",
        "pic_index = 2\n",
        "\n",
        "next_dog_light_short_tail = [os.path.join(dog_light_short_tail_dir, fname)\n",
        "                for fname in dog_light_short_tail_files[pic_index-2:pic_index]]\n",
        "next_dog_light_long_tail = [os.path.join(dog_light_long_tail_dir, fname)\n",
        "                for fname in dog_light_long_tail_files[pic_index-2:pic_index]]\n",
        "\n",
        "next_dog_color_short_tail = [os.path.join(dog_color_short_tail_dir, fname)\n",
        "                for fname in dog_color_short_tail_files[pic_index-2:pic_index]]\n",
        "next_dog_color_long_tail = [os.path.join(dog_color_long_tail_dir, fname)\n",
        "                for fname in dog_color_long_tail_files[pic_index-2:pic_index]]\n",
        "\n",
        "next_dog_dark_short_tail = [os.path.join(dog_dark_short_tail_dir, fname)\n",
        "                for fname in dog_dark_short_tail_files[pic_index-2:pic_index]]\n",
        "next_dog_dark_long_tail = [os.path.join(dog_dark_long_tail_dir, fname)\n",
        "                for fname in dog_dark_long_tail_files[pic_index-2:pic_index]]\n",
        "\n",
        "# for i, img_path in enumerate(next_dog_light_short_tail+next_dog_light_long_tail+next_dog_color_short_tail+next_dog_color_long_tail+next_dog_dark_short_tail+next_dog_dark_long_tail):\n",
        "#   print(img_path)\n",
        "#   img = mpimg.imread(img_path)\n",
        "#   plt.imshow(img)\n",
        "#   plt.axis('Off')\n",
        "#   plt.show()"
      ]
    },
    {
      "cell_type": "code",
      "source": [
        "!pip install split-folders\n",
        "dir = \"/content/drive/MyDrive/Colab Notebooks/tmp/Dogs\"\n",
        "import splitfolders\n",
        "splitfolders.ratio(dir, output=\"/content/drive/MyDrive/Colab Notebooks/tmp/\", seed=1337, ratio=(.8, 0.1,0.1))"
      ],
      "metadata": {
        "colab": {
          "base_uri": "https://localhost:8080/"
        },
        "id": "nK304tKIDe_G",
        "outputId": "81433f75-2e35-4505-cf43-b297df008abf"
      },
      "execution_count": 5,
      "outputs": [
        {
          "output_type": "stream",
          "name": "stdout",
          "text": [
            "Collecting split-folders\n",
            "  Downloading split_folders-0.5.1-py3-none-any.whl (8.4 kB)\n",
            "Installing collected packages: split-folders\n",
            "Successfully installed split-folders-0.5.1\n"
          ]
        },
        {
          "output_type": "stream",
          "name": "stderr",
          "text": [
            "Copying files: 1055 files [05:17,  3.32 files/s]\n"
          ]
        }
      ]
    },
    {
      "cell_type": "code",
      "execution_count": 6,
      "metadata": {
        "colab": {
          "base_uri": "https://localhost:8080/"
        },
        "id": "aSqOXBny_tdX",
        "outputId": "8f0013c8-3a1d-4aad-b30e-19d4fd29c412"
      },
      "outputs": [
        {
          "output_type": "stream",
          "name": "stdout",
          "text": [
            "Found 842 images belonging to 6 classes.\n",
            "Found 104 images belonging to 6 classes.\n",
            "Downloading data from https://storage.googleapis.com/tensorflow/keras-applications/vgg16/vgg16_weights_tf_dim_ordering_tf_kernels_notop.h5\n",
            "58889256/58889256 [==============================] - 1s 0us/step\n"
          ]
        }
      ],
      "source": [
        "import tensorflow as tf\n",
        "import keras.preprocessing\n",
        "from keras.preprocessing import image\n",
        "from keras.preprocessing.image import ImageDataGenerator\n",
        "\n",
        "\n",
        "# Define paths to your training and validation data directories\n",
        "\n",
        "train_dir = \"/content/drive/MyDrive/Colab Notebooks/tmp/train\"\n",
        "validation_dir = \"/content/drive/MyDrive/Colab Notebooks/tmp/val\"\n",
        "\n",
        "# Define parameters for image preprocessing and augmentation\n",
        "batch_size = 32\n",
        "target_size = (150, 150)  # or the size you want your images to be resized to\n",
        "class_mode = 'categorical'  # or 'binary' if you have two classes\n",
        "\n",
        "# Create ImageDataGenerator for training data\n",
        "train_datagen = ImageDataGenerator(\n",
        "    rescale=1./255,  # rescale pixel values to [0,1]\n",
        "    rotation_range=40,\n",
        "    width_shift_range=0.2,\n",
        "    height_shift_range=0.2,\n",
        "    shear_range=0.2,\n",
        "    zoom_range=0.2,\n",
        "    horizontal_flip=True,\n",
        "    fill_mode='nearest'\n",
        ")\n",
        "\n",
        "\n",
        "# Create ImageDataGenerator for validation data (only rescaling)\n",
        "val_datagen = ImageDataGenerator(rescale=1./255)\n",
        "\n",
        "# Create train_generator\n",
        "train_generator = train_datagen.flow_from_directory(\n",
        "    train_dir,\n",
        "    target_size=target_size,\n",
        "    batch_size=batch_size,\n",
        "    class_mode=class_mode\n",
        ")\n",
        "\n",
        "# Create val_generator\n",
        "val_generator = val_datagen.flow_from_directory(\n",
        "    validation_dir,\n",
        "    target_size=target_size,\n",
        "    batch_size=batch_size,\n",
        "    class_mode=class_mode\n",
        ")\n",
        "\n",
        "# # Define the model architecture\n",
        "# model = tf.keras.models.Sequential([\n",
        "#     # Note the input shape is the desired size of the image 150x150 with 3 bytes color\n",
        "#     # This is the first convolution\n",
        "#     tf.keras.layers.Conv2D(64, (3,3), activation='relu', input_shape=(150, 150, 3)),\n",
        "#     tf.keras.layers.MaxPooling2D(2, 2),\n",
        "#     # The second convolution\n",
        "#     tf.keras.layers.Conv2D(64, (3,3), activation='relu'),\n",
        "#     tf.keras.layers.MaxPooling2D(2,2),\n",
        "#     # The third convolution\n",
        "#     tf.keras.layers.Conv2D(128, (3,3), activation='relu'),\n",
        "#     tf.keras.layers.MaxPooling2D(2,2),\n",
        "#     # The fourth convolution\n",
        "#     tf.keras.layers.Conv2D(128, (3,3), activation='relu'),\n",
        "#     tf.keras.layers.MaxPooling2D(2,2),\n",
        "#     # Flatten the results to feed into a DNN\n",
        "#     tf.keras.layers.Flatten(),\n",
        "#     # Add a fully connected layer with 512 units\n",
        "#     tf.keras.layers.Dense(512, activation='relu'),\n",
        "#     tf.keras.layers.Dropout(0.5),\n",
        "#     # Output layer with 6 units (assuming 6 classes)\n",
        "#     tf.keras.layers.Dense(6, activation='softmax')\n",
        "# ])\n",
        "# Загрузка предобученной модели VGG16\n",
        "base_model = tf.keras.applications.VGG16(weights='imagenet', include_top=False, input_shape=(150, 150, 3))\n",
        "\n",
        "# Заморозка всех слоев предобученной модели\n",
        "for layer in base_model.layers:\n",
        "    layer.trainable = False\n",
        "\n",
        "model = tf.keras.models.Sequential([\n",
        "    tf.keras.layers.Conv2D(32, (3,3), activation='relu', input_shape=(150, 150, 3)),\n",
        "    tf.keras.layers.MaxPooling2D(2, 2),\n",
        "    tf.keras.layers.Conv2D(64, (3,3), activation='relu'),\n",
        "    tf.keras.layers.MaxPooling2D(2,2),\n",
        "    tf.keras.layers.Conv2D(128, (3,3), activation='relu'),\n",
        "    tf.keras.layers.MaxPooling2D(2,2),\n",
        "    tf.keras.layers.Conv2D(128, (3,3), activation='relu'),\n",
        "    tf.keras.layers.MaxPooling2D(2,2),\n",
        "    tf.keras.layers.Flatten(),\n",
        "    tf.keras.layers.Dense(512, activation='relu'),\n",
        "    tf.keras.layers.Dropout(0.5),\n",
        "    tf.keras.layers.Dense(6, activation='softmax')\n",
        "\n",
        "])\n",
        "\n",
        "# Compile the model with accuracy metric\n",
        "model.compile(optimizer='adam',\n",
        "              loss='categorical_crossentropy',\n",
        "              metrics=['accuracy'])\n",
        "\n",
        "# # Train the model and capture history\n",
        "# history = model.fit(\n",
        "#     train_generator,\n",
        "#     steps_per_epoch=len(train_generator),\n",
        "#     epochs=20,  # Increase the number of epochs\n",
        "#     validation_data=val_generator,\n",
        "#     validation_steps=len(val_generator)\n",
        "# )\n",
        "\n",
        "\n",
        "# # Retrieve val_loss and val_accuracy from history\n",
        "# val_loss = history.history['val_loss']\n",
        "# val_accuracy = history.history['val_accuracy']\n",
        "\n",
        "# print(\"Validation Loss:\", val_loss)\n",
        "# print(\"Validation Accuracy:\", val_accuracy)\n",
        "\n"
      ]
    },
    {
      "cell_type": "code",
      "execution_count": null,
      "metadata": {
        "colab": {
          "base_uri": "https://localhost:8080/"
        },
        "id": "fbCGEy_4_tdZ",
        "outputId": "c9fb8e86-1c39-4f97-d63e-015923777f49"
      },
      "outputs": [
        {
          "metadata": {
            "tags": null
          },
          "name": "stderr",
          "output_type": "stream",
          "text": [
            "<ipython-input-7-9eba847929bc>:6: UserWarning: `Model.fit_generator` is deprecated and will be removed in a future version. Please use `Model.fit`, which supports generators.\n",
            "  history = model.fit_generator(\n"
          ]
        },
        {
          "output_type": "stream",
          "name": "stdout",
          "text": [
            "Epoch 1/100\n",
            "27/27 [==============================] - 68s 2s/step - loss: 1.7866 - accuracy: 0.2055 - val_loss: 1.7683 - val_accuracy: 0.2019\n",
            "Epoch 2/100\n",
            "27/27 [==============================] - 58s 2s/step - loss: 1.7723 - accuracy: 0.2126 - val_loss: 1.7695 - val_accuracy: 0.2308\n",
            "Epoch 3/100\n",
            "27/27 [==============================] - 54s 2s/step - loss: 1.7711 - accuracy: 0.2328 - val_loss: 1.7648 - val_accuracy: 0.2308\n",
            "Epoch 4/100\n",
            "27/27 [==============================] - 53s 2s/step - loss: 1.7685 - accuracy: 0.2316 - val_loss: 1.7655 - val_accuracy: 0.2308\n",
            "Epoch 5/100\n",
            "27/27 [==============================] - 57s 2s/step - loss: 1.7697 - accuracy: 0.2292 - val_loss: 1.7651 - val_accuracy: 0.2308\n",
            "Epoch 6/100\n",
            "27/27 [==============================] - 52s 2s/step - loss: 1.7715 - accuracy: 0.2304 - val_loss: 1.7651 - val_accuracy: 0.2308\n",
            "Epoch 7/100\n",
            "27/27 [==============================] - 55s 2s/step - loss: 1.7731 - accuracy: 0.2304 - val_loss: 1.7650 - val_accuracy: 0.2308\n",
            "Epoch 8/100\n",
            "27/27 [==============================] - 56s 2s/step - loss: 1.7686 - accuracy: 0.2304 - val_loss: 1.7657 - val_accuracy: 0.2308\n",
            "Epoch 9/100\n",
            "27/27 [==============================] - 53s 2s/step - loss: 1.7692 - accuracy: 0.2292 - val_loss: 1.7639 - val_accuracy: 0.2308\n",
            "Epoch 10/100\n",
            "27/27 [==============================] - 53s 2s/step - loss: 1.7671 - accuracy: 0.2304 - val_loss: 1.7648 - val_accuracy: 0.2308\n",
            "Epoch 11/100\n",
            "27/27 [==============================] - 54s 2s/step - loss: 1.7708 - accuracy: 0.2304 - val_loss: 1.7633 - val_accuracy: 0.2308\n",
            "Epoch 12/100\n",
            "27/27 [==============================] - 55s 2s/step - loss: 1.7657 - accuracy: 0.2292 - val_loss: 1.7625 - val_accuracy: 0.2115\n",
            "Epoch 13/100\n",
            "27/27 [==============================] - 54s 2s/step - loss: 1.7680 - accuracy: 0.2209 - val_loss: 1.7593 - val_accuracy: 0.2308\n",
            "Epoch 14/100\n",
            "27/27 [==============================] - 53s 2s/step - loss: 1.7642 - accuracy: 0.2375 - val_loss: 1.7541 - val_accuracy: 0.2308\n",
            "Epoch 15/100\n",
            "27/27 [==============================] - 54s 2s/step - loss: 1.7694 - accuracy: 0.2411 - val_loss: 1.7628 - val_accuracy: 0.2404\n",
            "Epoch 16/100\n",
            "27/27 [==============================] - 56s 2s/step - loss: 1.7628 - accuracy: 0.2411 - val_loss: 1.7592 - val_accuracy: 0.2308\n",
            "Epoch 17/100\n",
            "27/27 [==============================] - 54s 2s/step - loss: 1.7619 - accuracy: 0.2411 - val_loss: 1.7688 - val_accuracy: 0.2115\n",
            "Epoch 18/100\n",
            "27/27 [==============================] - 60s 2s/step - loss: 1.7584 - accuracy: 0.2316 - val_loss: 1.7528 - val_accuracy: 0.2404\n",
            "Epoch 19/100\n",
            "27/27 [==============================] - 59s 2s/step - loss: 1.7562 - accuracy: 0.2423 - val_loss: 1.7469 - val_accuracy: 0.2404\n",
            "Epoch 20/100\n",
            "27/27 [==============================] - 52s 2s/step - loss: 1.7570 - accuracy: 0.2423 - val_loss: 1.7591 - val_accuracy: 0.2596\n",
            "Epoch 21/100\n",
            "27/27 [==============================] - 53s 2s/step - loss: 1.7593 - accuracy: 0.2458 - val_loss: 1.7573 - val_accuracy: 0.2404\n",
            "Epoch 22/100\n",
            "27/27 [==============================] - 55s 2s/step - loss: 1.7640 - accuracy: 0.2352 - val_loss: 1.7505 - val_accuracy: 0.2308\n",
            "Epoch 23/100\n",
            "27/27 [==============================] - 53s 2s/step - loss: 1.7525 - accuracy: 0.2565 - val_loss: 1.7522 - val_accuracy: 0.2500\n",
            "Epoch 24/100\n",
            "27/27 [==============================] - 55s 2s/step - loss: 1.7615 - accuracy: 0.2375 - val_loss: 1.7463 - val_accuracy: 0.2212\n",
            "Epoch 25/100\n",
            "27/27 [==============================] - 54s 2s/step - loss: 1.7558 - accuracy: 0.2435 - val_loss: 1.7489 - val_accuracy: 0.2212\n",
            "Epoch 26/100\n",
            "27/27 [==============================] - 55s 2s/step - loss: 1.7499 - accuracy: 0.2363 - val_loss: 1.7664 - val_accuracy: 0.2596\n",
            "Epoch 27/100\n",
            "27/27 [==============================] - 53s 2s/step - loss: 1.7533 - accuracy: 0.2423 - val_loss: 1.7597 - val_accuracy: 0.2404\n",
            "Epoch 28/100\n",
            "27/27 [==============================] - 62s 2s/step - loss: 1.7540 - accuracy: 0.2494 - val_loss: 1.7456 - val_accuracy: 0.2596\n",
            "Epoch 29/100\n",
            "27/27 [==============================] - 56s 2s/step - loss: 1.7541 - accuracy: 0.2447 - val_loss: 1.7455 - val_accuracy: 0.2308\n",
            "Epoch 30/100\n",
            "27/27 [==============================] - 55s 2s/step - loss: 1.7505 - accuracy: 0.2352 - val_loss: 1.7436 - val_accuracy: 0.2500\n",
            "Epoch 31/100\n",
            "27/27 [==============================] - 56s 2s/step - loss: 1.7491 - accuracy: 0.2458 - val_loss: 1.7458 - val_accuracy: 0.2404\n",
            "Epoch 32/100\n",
            "27/27 [==============================] - 55s 2s/step - loss: 1.7480 - accuracy: 0.2458 - val_loss: 1.7844 - val_accuracy: 0.2308\n",
            "Epoch 33/100\n",
            "27/27 [==============================] - 52s 2s/step - loss: 1.7537 - accuracy: 0.2494 - val_loss: 1.7437 - val_accuracy: 0.2308\n",
            "Epoch 34/100\n",
            "27/27 [==============================] - 56s 2s/step - loss: 1.7450 - accuracy: 0.2494 - val_loss: 1.7599 - val_accuracy: 0.2308\n",
            "Epoch 35/100\n",
            "27/27 [==============================] - 56s 2s/step - loss: 1.7565 - accuracy: 0.2470 - val_loss: 1.7490 - val_accuracy: 0.2500\n",
            "Epoch 36/100\n",
            "27/27 [==============================] - 53s 2s/step - loss: 1.7483 - accuracy: 0.2411 - val_loss: 1.7556 - val_accuracy: 0.2212\n",
            "Epoch 37/100\n",
            "27/27 [==============================] - 55s 2s/step - loss: 1.7536 - accuracy: 0.2328 - val_loss: 1.7563 - val_accuracy: 0.2596\n",
            "Epoch 38/100\n",
            "27/27 [==============================] - 61s 2s/step - loss: 1.7396 - accuracy: 0.2506 - val_loss: 1.7653 - val_accuracy: 0.2404\n",
            "Epoch 39/100\n",
            "27/27 [==============================] - 51s 2s/step - loss: 1.7529 - accuracy: 0.2328 - val_loss: 1.7709 - val_accuracy: 0.2404\n",
            "Epoch 40/100\n",
            "27/27 [==============================] - 55s 2s/step - loss: 1.7491 - accuracy: 0.2447 - val_loss: 1.7599 - val_accuracy: 0.2500\n",
            "Epoch 41/100\n",
            "27/27 [==============================] - 54s 2s/step - loss: 1.7437 - accuracy: 0.2518 - val_loss: 1.7593 - val_accuracy: 0.2212\n",
            "Epoch 42/100\n",
            "27/27 [==============================] - 55s 2s/step - loss: 1.7459 - accuracy: 0.2553 - val_loss: 1.7592 - val_accuracy: 0.2596\n",
            "Epoch 43/100\n",
            "27/27 [==============================] - 56s 2s/step - loss: 1.7609 - accuracy: 0.2352 - val_loss: 1.7506 - val_accuracy: 0.2885\n",
            "Epoch 44/100\n",
            "27/27 [==============================] - 51s 2s/step - loss: 1.7426 - accuracy: 0.2506 - val_loss: 1.7545 - val_accuracy: 0.2596\n",
            "Epoch 45/100\n",
            "27/27 [==============================] - 55s 2s/step - loss: 1.7469 - accuracy: 0.2613 - val_loss: 1.7746 - val_accuracy: 0.2500\n",
            "Epoch 46/100\n",
            "27/27 [==============================] - 56s 2s/step - loss: 1.7450 - accuracy: 0.2660 - val_loss: 1.7618 - val_accuracy: 0.2500\n",
            "Epoch 47/100\n",
            "27/27 [==============================] - 51s 2s/step - loss: 1.7374 - accuracy: 0.2625 - val_loss: 1.7462 - val_accuracy: 0.2500\n",
            "Epoch 48/100\n",
            "27/27 [==============================] - 56s 2s/step - loss: 1.7519 - accuracy: 0.2542 - val_loss: 1.7594 - val_accuracy: 0.2404\n",
            "Epoch 49/100\n",
            "27/27 [==============================] - 61s 2s/step - loss: 1.7507 - accuracy: 0.2506 - val_loss: 1.7707 - val_accuracy: 0.2308\n",
            "Epoch 50/100\n",
            "27/27 [==============================] - 54s 2s/step - loss: 1.7440 - accuracy: 0.2708 - val_loss: 1.7626 - val_accuracy: 0.2500\n",
            "Epoch 51/100\n",
            "27/27 [==============================] - 56s 2s/step - loss: 1.7385 - accuracy: 0.2565 - val_loss: 1.8165 - val_accuracy: 0.2404\n",
            "Epoch 52/100\n",
            "27/27 [==============================] - 56s 2s/step - loss: 1.7503 - accuracy: 0.2518 - val_loss: 1.7765 - val_accuracy: 0.2404\n",
            "Epoch 53/100\n",
            "27/27 [==============================] - 52s 2s/step - loss: 1.7401 - accuracy: 0.2565 - val_loss: 1.7602 - val_accuracy: 0.2596\n",
            "Epoch 54/100\n",
            "27/27 [==============================] - 56s 2s/step - loss: 1.7376 - accuracy: 0.2506 - val_loss: 1.7610 - val_accuracy: 0.2500\n",
            "Epoch 55/100\n",
            "27/27 [==============================] - 55s 2s/step - loss: 1.7330 - accuracy: 0.2482 - val_loss: 1.7741 - val_accuracy: 0.2500\n",
            "Epoch 56/100\n",
            "27/27 [==============================] - 52s 2s/step - loss: 1.7329 - accuracy: 0.2672 - val_loss: 1.7974 - val_accuracy: 0.2404\n",
            "Epoch 57/100\n",
            "27/27 [==============================] - 56s 2s/step - loss: 1.7406 - accuracy: 0.2530 - val_loss: 1.8082 - val_accuracy: 0.2212\n",
            "Epoch 58/100\n",
            "27/27 [==============================] - 57s 2s/step - loss: 1.7307 - accuracy: 0.2660 - val_loss: 1.7722 - val_accuracy: 0.2308\n",
            "Epoch 59/100\n",
            "27/27 [==============================] - 53s 2s/step - loss: 1.7363 - accuracy: 0.2720 - val_loss: 1.7726 - val_accuracy: 0.2596\n"
          ]
        }
      ],
      "source": [
        "import os\n",
        "import numpy as np\n",
        "EPOCHS = 100\n",
        "total_train = sum(len(files) for _, _, files in os.walk(train_dir))\n",
        "total_val = sum(len(files) for _, _, files in os.walk(validation_dir))\n",
        "history = model.fit_generator(\n",
        "    train_generator,\n",
        "    steps_per_epoch=int(np.ceil(total_train / float(batch_size))),\n",
        "    epochs=EPOCHS,\n",
        "    validation_data=val_generator,\n",
        "    validation_steps=int(np.ceil(total_val / float(batch_size)))\n",
        ")"
      ]
    },
    {
      "cell_type": "code",
      "execution_count": null,
      "metadata": {
        "id": "BnYnSlay_tdZ"
      },
      "outputs": [],
      "source": [
        "acc = history.history['accuracy']\n",
        "val_acc = history.history['val_accuracy']\n",
        "\n",
        "loss = history.history['loss']\n",
        "val_loss = history.history['val_loss']\n",
        "# epochs=10\n",
        "epochs_range = range(EPOCHS)\n",
        "\n",
        "plt.figure(figsize=(8,8))\n",
        "plt.subplot(1, 2, 1)\n",
        "plt.plot(epochs_range, acc, label='Точность на обучении')\n",
        "plt.plot(epochs_range, val_acc, label='Точность на валидации')\n",
        "plt.legend(loc='lower right')\n",
        "plt.title('Точность')\n",
        "\n",
        "plt.subplot(1, 2, 2)\n",
        "plt.plot(epochs_range, loss, label='Потери на обучении')\n",
        "plt.plot(epochs_range, val_loss, label='Потери на валидации')\n",
        "plt.legend(loc='upper right')\n",
        "plt.title('Потери')\n",
        "plt.savefig('./foo.png')\n",
        "plt.show()"
      ]
    },
    {
      "cell_type": "code",
      "execution_count": null,
      "metadata": {
        "id": "WPHq-UsqpDd9"
      },
      "outputs": [],
      "source": [
        "# from google.colab import drive\n",
        "# drive.mount('/content/drive')"
      ]
    }
  ],
  "metadata": {
    "colab": {
      "provenance": [],
      "include_colab_link": true
    },
    "kernelspec": {
      "display_name": "Python 3 (ipykernel)",
      "language": "python",
      "name": "python3"
    },
    "language_info": {
      "codemirror_mode": {
        "name": "ipython",
        "version": 3
      },
      "file_extension": ".py",
      "mimetype": "text/x-python",
      "name": "python",
      "nbconvert_exporter": "python",
      "pygments_lexer": "ipython3",
      "version": "3.9.12"
    }
  },
  "nbformat": 4,
  "nbformat_minor": 0
}